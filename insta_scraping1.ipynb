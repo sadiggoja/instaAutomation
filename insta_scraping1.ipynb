{
 "cells": [
  {
   "cell_type": "code",
   "execution_count": 123,
   "id": "elect-holmes",
   "metadata": {},
   "outputs": [],
   "source": [
    "from selenium import webdriver\n",
    "from selenium.webdriver.common.keys import Keys\n",
    "from selenium.webdriver.common.by import By\n",
    "from selenium.webdriver.support.ui import WebDriverWait\n",
    "from selenium.webdriver.support import expected_conditions as EC\n",
    "from selenium.webdriver.common.action_chains import ActionChains\n",
    "from selenium.webdriver.support.ui import Select\n",
    "import math\n",
    "import time\n",
    "from bs4 import BeautifulSoup\n",
    "import pandas as pd"
   ]
  },
  {
   "cell_type": "code",
   "execution_count": 37,
   "id": "stainless-celebrity",
   "metadata": {},
   "outputs": [],
   "source": [
    "path = r'C:\\Users\\Admin\\Documents\\python\\jupyter\\geckodriver.exe'\n",
    "driver=webdriver.Firefox(executable_path=path)"
   ]
  },
  {
   "cell_type": "markdown",
   "id": "surface-classics",
   "metadata": {},
   "source": [
    "# Instagram login"
   ]
  },
  {
   "cell_type": "code",
   "execution_count": 38,
   "id": "sharing-permission",
   "metadata": {},
   "outputs": [],
   "source": [
    "driver.get('https://instagram.com/')"
   ]
  },
  {
   "cell_type": "code",
   "execution_count": 39,
   "id": "confidential-progressive",
   "metadata": {},
   "outputs": [],
   "source": [
    "login=driver.find_element_by_name('username')"
   ]
  },
  {
   "cell_type": "code",
   "execution_count": 40,
   "id": "peaceful-action",
   "metadata": {},
   "outputs": [],
   "source": [
    "login.send_keys(input())"
   ]
  },
  {
   "cell_type": "code",
   "execution_count": 41,
   "id": "caroline-projection",
   "metadata": {},
   "outputs": [],
   "source": [
    "password=driver.find_element_by_name('password')"
   ]
  },
  {
   "cell_type": "code",
   "execution_count": 42,
   "id": "matched-present",
   "metadata": {},
   "outputs": [],
   "source": [
    "password.send_keys(input())"
   ]
  },
  {
   "cell_type": "code",
   "execution_count": 43,
   "id": "complimentary-artist",
   "metadata": {},
   "outputs": [],
   "source": [
    "password.send_keys(Keys.ENTER)"
   ]
  },
  {
   "cell_type": "code",
   "execution_count": 44,
   "id": "known-elevation",
   "metadata": {},
   "outputs": [
    {
     "name": "stdout",
     "output_type": "stream",
     "text": [
      "no any notification element\n"
     ]
    }
   ],
   "source": [
    "try:\n",
    "    not_now_element=driver.find_element_by_xpath('/html/body/div[4]/div/div/div/div[3]/button[2]')\n",
    "    not_now_element.send_keys(Keys.ENTER)\n",
    "except:\n",
    "    print('no any notification element')"
   ]
  },
  {
   "cell_type": "markdown",
   "id": "coupled-organization",
   "metadata": {},
   "source": [
    "# Searching page"
   ]
  },
  {
   "cell_type": "code",
   "execution_count": 45,
   "id": "interracial-montana",
   "metadata": {},
   "outputs": [],
   "source": [
    "search=driver.find_element_by_xpath('/html/body/div[1]/section/nav/div[2]/div/div/div[2]/input')\n",
    "search.send_keys('ferrumcapital')"
   ]
  },
  {
   "cell_type": "code",
   "execution_count": 46,
   "id": "infinite-optimum",
   "metadata": {},
   "outputs": [],
   "source": [
    "while 1:\n",
    "    try:\n",
    "        search.send_keys(Keys.ENTER)\n",
    "    except:\n",
    "        break"
   ]
  },
  {
   "cell_type": "markdown",
   "id": "quality-thousand",
   "metadata": {},
   "source": [
    "# Get page info"
   ]
  },
  {
   "cell_type": "code",
   "execution_count": 47,
   "id": "sealed-weather",
   "metadata": {},
   "outputs": [
    {
     "data": {
      "text/plain": [
       "169"
      ]
     },
     "execution_count": 47,
     "metadata": {},
     "output_type": "execute_result"
    }
   ],
   "source": [
    "numOfPosts=int(driver.find_element_by_xpath('/html/body/div[1]/section/main/div/header/section/ul/li[1]/span/span').text)\n",
    "numOfPosts"
   ]
  },
  {
   "cell_type": "code",
   "execution_count": 106,
   "id": "powerful-surrey",
   "metadata": {},
   "outputs": [],
   "source": [
    "images=[]\n",
    "while len(images)!=numOfPosts:\n",
    "    try:\n",
    "        rows=driver.find_elements_by_xpath('/html/body/div[1]/section/main/div/div[3]/article/div[1]/div/div')\n",
    "        for row in rows:\n",
    "            images_row=row.find_elements_by_xpath('div')\n",
    "            for image in images_row:\n",
    "                image_url=image.find_element_by_tag_name('a').get_attribute('href')\n",
    "                if image_url not in images:\n",
    "                    images.append(image_url)\n",
    "                    image.click()\n",
    "                    driver.find_element_by_xpath('/html/body/div[5]/div[3]').click()\n",
    "    except:\n",
    "        continue\n",
    "    driver.find_element_by_xpath('/html/body').send_keys(Keys.PAGE_DOWN)"
   ]
  },
  {
   "cell_type": "code",
   "execution_count": 118,
   "id": "cleared-ebony",
   "metadata": {},
   "outputs": [],
   "source": [
    "def post_info(driver):\n",
    "    post_dict=dict()\n",
    "    post_dict['url']=driver.current_url\n",
    "    \n",
    "    likes_div=WebDriverWait(driver,10).until(EC.visibility_of_element_located((By.XPATH, '/html/body/div[5]/div[2]/div/article/div[3]/section[2]/div')))\n",
    "    try:\n",
    "        like=likes_div.find_element_by_tag_name('a').text\n",
    "    except:\n",
    "        view=likes_div.find_element_by_tag_name('span').text\n",
    "        post_dict['views']=view\n",
    "        likes_div.find_element_by_tag_name('span').click()\n",
    "        like=likes_div.find_element_by_tag_name('div').text\n",
    "        likes_div.click()\n",
    "    post_dict['likes']=like\n",
    "    \n",
    "    try:\n",
    "        caption_bar_text=driver.find_element_by_xpath('/html/body/div[5]/div[2]/div/article/div[3]/div[1]/ul/div/li/div/div/div[2]/span').text\n",
    "    except:\n",
    "        caption_bar_text=' '\n",
    "        \n",
    "    post_dict['caption']=caption_bar_text\n",
    "    \n",
    "    return post_dict"
   ]
  },
  {
   "cell_type": "code",
   "execution_count": 121,
   "id": "organized-pointer",
   "metadata": {
    "scrolled": true
   },
   "outputs": [],
   "source": [
    "posts=[]\n",
    "first_post=driver.find_element_by_xpath('/html/body/div[1]/section/main/div/div[3]/article/div[1]/div/div[1]/div[1]')\n",
    "first_post.click()\n",
    "posts.append(post_info(driver))\n",
    "\n",
    "driver.find_element_by_xpath('/html/body/div[5]/div[1]/div/div/a').click()\n",
    "for post in range(numOfPosts-1):\n",
    "# for post_page in range(15):\n",
    "    try:                \n",
    "        posts.append(post_info(driver))\n",
    "        \n",
    "        nextClick=WebDriverWait(driver,10).until(EC.element_to_be_clickable((By.XPATH, '/html/body/div[5]/div[1]/div/div/a[2]')))\n",
    "        nextClick.click()\n",
    "    except:\n",
    "        continue"
   ]
  },
  {
   "cell_type": "code",
   "execution_count": null,
   "id": "descending-sierra",
   "metadata": {},
   "outputs": [],
   "source": []
  },
  {
   "cell_type": "code",
   "execution_count": null,
   "id": "intelligent-plasma",
   "metadata": {},
   "outputs": [],
   "source": []
  },
  {
   "cell_type": "code",
   "execution_count": null,
   "id": "sorted-occupation",
   "metadata": {
    "scrolled": true
   },
   "outputs": [],
   "source": []
  },
  {
   "cell_type": "code",
   "execution_count": null,
   "id": "bridal-victoria",
   "metadata": {},
   "outputs": [],
   "source": []
  },
  {
   "cell_type": "code",
   "execution_count": null,
   "id": "novel-contact",
   "metadata": {},
   "outputs": [],
   "source": []
  },
  {
   "cell_type": "code",
   "execution_count": null,
   "id": "removable-traffic",
   "metadata": {},
   "outputs": [],
   "source": []
  },
  {
   "cell_type": "markdown",
   "id": "temporal-feedback",
   "metadata": {},
   "source": [
    "# Followers"
   ]
  },
  {
   "cell_type": "code",
   "execution_count": 16,
   "id": "cheap-tiffany",
   "metadata": {},
   "outputs": [],
   "source": [
    "followers=driver.find_element_by_xpath('/html/body/div[1]/section/main/div/header/section/ul/li[2]/a')"
   ]
  },
  {
   "cell_type": "code",
   "execution_count": 17,
   "id": "foster-adjustment",
   "metadata": {},
   "outputs": [],
   "source": [
    "followers.click()"
   ]
  },
  {
   "cell_type": "code",
   "execution_count": 18,
   "id": "tough-hunger",
   "metadata": {},
   "outputs": [],
   "source": [
    "followers_list=[]\n",
    "before=0\n",
    "pop_up=driver.find_element_by_xpath('/html/body/div[5]/div')\n",
    "li_list=pop_up.find_elements_by_tag_name('li')\n",
    "after=len(li_list)\n",
    "while before!=after:\n",
    "#     print (after)\n",
    "    try:\n",
    "        for li_element in li_list[before:after]:\n",
    "            url=li_element.find_element_by_tag_name('a').get_attribute('href')\n",
    "            profile=url.split('/')[-2]\n",
    "            followers_list.append(profile)\n",
    "\n",
    "        before=after\n",
    "        \n",
    "        for a in range(10):\n",
    "            li_list[-1].click()\n",
    "#             li_list[-1].send_keys(Keys.PAGE_DOWN)\n",
    "            \n",
    "#             ActionChains(driver).move_to_element(li_list[-1]).perform()\n",
    "        \n",
    "        li_list=pop_up.find_elements_by_tag_name('li')\n",
    "        after=len(li_list)\n",
    "    except:\n",
    "        pass"
   ]
  },
  {
   "cell_type": "code",
   "execution_count": 19,
   "id": "greater-active",
   "metadata": {},
   "outputs": [
    {
     "data": {
      "text/plain": [
       "1212"
      ]
     },
     "execution_count": 19,
     "metadata": {},
     "output_type": "execute_result"
    }
   ],
   "source": [
    "len(followers_list)"
   ]
  },
  {
   "cell_type": "code",
   "execution_count": null,
   "id": "editorial-rating",
   "metadata": {
    "scrolled": true
   },
   "outputs": [],
   "source": []
  },
  {
   "cell_type": "code",
   "execution_count": null,
   "id": "several-meeting",
   "metadata": {},
   "outputs": [],
   "source": []
  },
  {
   "cell_type": "code",
   "execution_count": null,
   "id": "analyzed-lawyer",
   "metadata": {},
   "outputs": [],
   "source": []
  },
  {
   "cell_type": "code",
   "execution_count": null,
   "id": "suffering-webcam",
   "metadata": {},
   "outputs": [],
   "source": []
  }
 ],
 "metadata": {
  "kernelspec": {
   "display_name": "Python 3",
   "language": "python",
   "name": "python3"
  },
  "language_info": {
   "codemirror_mode": {
    "name": "ipython",
    "version": 3
   },
   "file_extension": ".py",
   "mimetype": "text/x-python",
   "name": "python",
   "nbconvert_exporter": "python",
   "pygments_lexer": "ipython3",
   "version": "3.9.2"
  }
 },
 "nbformat": 4,
 "nbformat_minor": 5
}
